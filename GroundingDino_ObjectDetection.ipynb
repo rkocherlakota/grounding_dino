{
  "nbformat": 4,
  "nbformat_minor": 0,
  "metadata": {
    "colab": {
      "provenance": [],
      "gpuType": "T4"
    },
    "kernelspec": {
      "name": "python3",
      "display_name": "Python 3"
    },
    "language_info": {
      "name": "python"
    },
    "accelerator": "GPU"
  },
  "cells": [
    {
      "cell_type": "code",
      "execution_count": 8,
      "metadata": {
        "id": "60thZdZqn2wF"
      },
      "outputs": [],
      "source": [
        "!pip install -q \\\n",
        "autodistill \\\n",
        "autodistill-yolov8 \\\n",
        "autodistill-grounding-dino\\\n",
        "roboflow\n"
      ]
    },
    {
      "cell_type": "code",
      "source": [
        "import locale\n",
        "def getpreferredencoding(do_setlocale = True):\n",
        "    return \"UTF-8\"\n",
        "locale.getpreferredencoding = getpreferredencoding"
      ],
      "metadata": {
        "id": "Mgf2KSKPy4JO"
      },
      "execution_count": 9,
      "outputs": []
    },
    {
      "cell_type": "code",
      "source": [
        "from autodistill.detection import CaptionOntology\n",
        "from autodistill_grounding_dino import GroundingDINO"
      ],
      "metadata": {
        "id": "BlPVsuEgy67F"
      },
      "execution_count": 10,
      "outputs": []
    },
    {
      "cell_type": "code",
      "source": [
        "ontology = CaptionOntology(\n",
        "{\n",
        "    \"package\": \"package\"\n",
        "\n",
        "}\n",
        ")"
      ],
      "metadata": {
        "id": "iOAwaitbz6A0"
      },
      "execution_count": 14,
      "outputs": []
    },
    {
      "cell_type": "code",
      "source": [
        "IMAGE_DIR_PATH = \"/content/train\"\n",
        "DATASET_DIR_PATH = \"./predicted\""
      ],
      "metadata": {
        "id": "9KsBAj1-z59s"
      },
      "execution_count": 15,
      "outputs": []
    },
    {
      "cell_type": "code",
      "source": [
        "base_model = GroundingDINO(ontology=ontology)\n",
        "dataset = base_model.label(\n",
        "    input_folder=IMAGE_DIR_PATH,\n",
        "    extension=\".jpg\",\n",
        "    output_folder=DATASET_DIR_PATH)"
      ],
      "metadata": {
        "id": "nfKa_5AEz56j",
        "colab": {
          "base_uri": "https://localhost:8080/"
        },
        "outputId": "e0525746-6326-40ab-8b54-2c11ab906439"
      },
      "execution_count": 16,
      "outputs": [
        {
          "output_type": "stream",
          "name": "stdout",
          "text": [
            "trying to load grounding dino directly\n",
            "final text_encoder_type: bert-base-uncased\n"
          ]
        },
        {
          "output_type": "stream",
          "name": "stderr",
          "text": [
            "You are using `torch.load` with `weights_only=False` (the current default value), which uses the default pickle module implicitly. It is possible to construct malicious pickle data which will execute arbitrary code during unpickling (See https://github.com/pytorch/pytorch/blob/main/SECURITY.md#untrusted-models for more details). In a future release, the default value for `weights_only` will be flipped to `True`. This limits the functions that could be executed during unpickling. Arbitrary objects will no longer be allowed to be loaded via this mode unless they are explicitly allowlisted by the user via `torch.serialization.add_safe_globals`. We recommend you start setting `weights_only=True` for any use case where you don't have full control of the loaded file. Please open an issue on GitHub for any issues related to this experimental feature.\n",
            "Labeling /content/train/442_zl20230718_001_png_jpg.rf.3c619a71baad2fafe7f44cd24ab136c3.jpg:   0%|          | 0/20 [00:00<?, ?it/s]The `device` argument is deprecated and will be removed in v5 of Transformers.\n",
            "torch.utils.checkpoint: the use_reentrant parameter should be passed explicitly. In version 2.4 we will raise an exception if use_reentrant is not passed. use_reentrant=False is recommended, but if you need to preserve the current default behavior, you can pass use_reentrant=True. Refer to docs for more details on the differences between the two variants.\n",
            "None of the inputs have requires_grad=True. Gradients will be None\n",
            "`torch.cuda.amp.autocast(args...)` is deprecated. Please use `torch.amp.autocast('cuda', args...)` instead.\n",
            "Labeling /content/train/309_zl20230718_001_png_jpg.rf.3488d5e3beced0d41db2fb14a995a237.jpg:   5%|▌         | 1/20 [00:07<02:17,  7.24s/it]The `device` argument is deprecated and will be removed in v5 of Transformers.\n",
            "torch.utils.checkpoint: the use_reentrant parameter should be passed explicitly. In version 2.4 we will raise an exception if use_reentrant is not passed. use_reentrant=False is recommended, but if you need to preserve the current default behavior, you can pass use_reentrant=True. Refer to docs for more details on the differences between the two variants.\n",
            "None of the inputs have requires_grad=True. Gradients will be None\n",
            "`torch.cuda.amp.autocast(args...)` is deprecated. Please use `torch.amp.autocast('cuda', args...)` instead.\n",
            "Labeling /content/train/5547_zl20230718_003_png_jpg.rf.4969ed3a70f791acf8bfa3dfbd7aaa95.jpg: 100%|██████████| 20/20 [00:14<00:00,  1.35it/s]"
          ]
        },
        {
          "output_type": "stream",
          "name": "stdout",
          "text": [
            "Labeled dataset created - ready for distillation.\n"
          ]
        },
        {
          "output_type": "stream",
          "name": "stderr",
          "text": [
            "\n",
            "Passing a `Dict[str, np.ndarray]` into `DetectionDataset` is deprecated and will be removed in `supervision-0.26.0`. Use a list of paths `List[str]` instead.\n"
          ]
        }
      ]
    },
    {
      "cell_type": "code",
      "source": [
        "from google.colab import drive\n",
        "drive.mount('/content/drive')"
      ],
      "metadata": {
        "id": "OTzoq3P-z53r",
        "colab": {
          "base_uri": "https://localhost:8080/"
        },
        "outputId": "eda3b44b-bc0e-4943-8fca-7b2ae64f7e00"
      },
      "execution_count": 17,
      "outputs": [
        {
          "output_type": "stream",
          "name": "stdout",
          "text": [
            "Mounted at /content/drive\n"
          ]
        }
      ]
    },
    {
      "cell_type": "code",
      "source": [
        "cp -r /content/predicted /content/drive/MyDrive/Object_Detection/test/"
      ],
      "metadata": {
        "id": "G6vt3MJwz5yy"
      },
      "execution_count": 18,
      "outputs": []
    },
    {
      "cell_type": "code",
      "source": [
        "rm -r ./predicted"
      ],
      "metadata": {
        "id": "TXo-V5DqJWTc"
      },
      "execution_count": null,
      "outputs": []
    }
  ]
}
